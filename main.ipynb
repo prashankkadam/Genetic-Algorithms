{
  "nbformat": 4,
  "nbformat_minor": 0,
  "metadata": {
    "colab": {
      "name": "main.ipynb",
      "version": "0.3.2",
      "provenance": [],
      "include_colab_link": true
    },
    "kernelspec": {
      "name": "python3",
      "display_name": "Python 3"
    }
  },
  "cells": [
    {
      "cell_type": "markdown",
      "metadata": {
        "id": "view-in-github",
        "colab_type": "text"
      },
      "source": [
        "<a href=\"https://colab.research.google.com/github/prashankkadam/Genetic-Algorithms/blob/Equation_Solutions/main.ipynb\" target=\"_parent\"><img src=\"https://colab.research.google.com/assets/colab-badge.svg\" alt=\"Open In Colab\"/></a>"
      ]
    },
    {
      "cell_type": "code",
      "metadata": {
        "id": "7KJCuD-8JUkd",
        "colab_type": "code",
        "colab": {}
      },
      "source": [
        "import numpy\n",
        "import GA"
      ],
      "execution_count": 0,
      "outputs": []
    },
    {
      "cell_type": "code",
      "metadata": {
        "id": "fI0NTr4nJvv8",
        "colab_type": "code",
        "colab": {}
      },
      "source": [
        "# Inputs of the Equation:\n",
        "equation_inputs = [4, -2, 3.5, 5, -11, -4.7]\n",
        "\n",
        "# Number of weights we are looking to optimize\n",
        "num_weights = 6"
      ],
      "execution_count": 0,
      "outputs": []
    },
    {
      "cell_type": "code",
      "metadata": {
        "id": "cTbKXF4ZKWha",
        "colab_type": "code",
        "colab": {}
      },
      "source": [
        "\"\"\"\n",
        "Gentic algorithm parameters:\n",
        "Mating pool size\n",
        "Population size\n",
        "\"\"\"\n",
        "sol_per_pop = 8\n",
        "num_parents_mating = 4"
      ],
      "execution_count": 0,
      "outputs": []
    },
    {
      "cell_type": "code",
      "metadata": {
        "id": "9U8JO1GOLC-K",
        "colab_type": "code",
        "colab": {}
      },
      "source": [
        "#Defining the population size:\n",
        "pop_size = (sol_per_pop, num_weights)\n",
        "\n",
        "#Creating the initial population:\n",
        "new_population = numpy.random.uniform(low=4.0, high=4.0, size=pop_size)\n",
        "print(new_population)"
      ],
      "execution_count": 0,
      "outputs": []
    },
    {
      "cell_type": "code",
      "metadata": {
        "id": "ksqgJgaYMo0A",
        "colab_type": "code",
        "colab": {}
      },
      "source": [
        "num_generations = 5\n",
        "\n",
        "for generation in range(num_generations):\n",
        "  print(\"Generations : \", generation)\n",
        "  \n",
        "  # Measuring the fitness of each chromosome in the population:\n",
        "  fitness = GA.cal_pop_fitness(equation_inputs, new_population)\n",
        "  \n",
        "  # Selecting the best parents in the population for mating\n",
        "  parents = GA.select_mating_pool(num_population, fitness, num_parents_mating)\n",
        "  \n",
        "  # Generating the next generation using cross-over:\n",
        "  offspring_crossover = GA.crossover(parents,\n",
        "                                     offspring_size=(pop_size=[0]-parents.shape[0], num_weights))\n",
        "  \n",
        "  # Adding some variation to the offspring using mutation\n",
        "  offspring_mutation = GA.mutation(offspring_crossover)\n",
        "  \n",
        "  # Creating a new population based on parents and offspring\n",
        "  new_population[0:parents.shape[0], :] = parents\n",
        "  new_population[parents.shape[0]:, :] = offspring_mutation\n",
        "  \n",
        "  # Printing the best result in the current iteration:\n",
        "  print(\"Best Result : \", numpy.max(numpy.sum(new_population*equation_inputs, axis=1))) \n",
        "  "
      ],
      "execution_count": 0,
      "outputs": []
    },
    {
      "cell_type": "code",
      "metadata": {
        "id": "JBMKUqwsQ51W",
        "colab_type": "code",
        "colab": {}
      },
      "source": [
        "# Getting the best solution after iterating finishing all generations.\n",
        "# At first, the fitness is calculated for each solution in the final fitness\n",
        "fitness = GA.cal_pop_fitness(equation_inputs, new_population)\n",
        "\n",
        "# Return the index of the solution corresponding to the best fitness:\n",
        "best_match_idx = numpy.where(fitness == numpy.max(fitness))\n",
        "\n",
        "print(\"Best Solution : \", new_population[best_match_idx, :])\n",
        "print(\"Best Solution Fitness : \", fitness[best_match_idx]) "
      ],
      "execution_count": 0,
      "outputs": []
    }
  ]
}