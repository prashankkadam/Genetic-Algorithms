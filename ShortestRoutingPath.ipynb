{
  "nbformat": 4,
  "nbformat_minor": 0,
  "metadata": {
    "colab": {
      "name": "ShortestRoutingPath.ipynb",
      "version": "0.3.2",
      "provenance": [],
      "collapsed_sections": [],
      "include_colab_link": true
    },
    "kernelspec": {
      "name": "python3",
      "display_name": "Python 3"
    }
  },
  "cells": [
    {
      "cell_type": "markdown",
      "metadata": {
        "id": "view-in-github",
        "colab_type": "text"
      },
      "source": [
        "<a href=\"https://colab.research.google.com/github/prashankkadam/Genetic-Algorithms/blob/Shortest_Routing_Path/ShortestRoutingPath.ipynb\" target=\"_parent\"><img src=\"https://colab.research.google.com/assets/colab-badge.svg\" alt=\"Open In Colab\"/></a>"
      ]
    },
    {
      "cell_type": "code",
      "metadata": {
        "id": "JtXEDEcP7IDL",
        "colab_type": "code",
        "colab": {}
      },
      "source": [
        "import numpy as np, random, operator, pandas as pd, matplotlib.pyplot as plt"
      ],
      "execution_count": 0,
      "outputs": []
    },
    {
      "cell_type": "markdown",
      "metadata": {
        "id": "iVsO6P57QW3a",
        "colab_type": "text"
      },
      "source": [
        "This class allows us to handle our cities:"
      ]
    },
    {
      "cell_type": "code",
      "metadata": {
        "id": "WgW7_INR8MiI",
        "colab_type": "code",
        "colab": {}
      },
      "source": [
        "class City:\n",
        "  def __init__(self, x, y):\n",
        "    self.x = x\n",
        "    self.y = y\n",
        "    \n",
        "  def distance(self, city):\n",
        "    xDis = abs(self.x - city.x)\n",
        "    yDis = abs(self.y - city.y)\n",
        "    distance = np.sqrt((xDis ** 2) + (yDis ** 2))\n",
        "    return distance \n",
        "  \n",
        "  def __repr__(self):\n",
        "    return \"(\" + str(self.x) + \",\" + str(self.y) + \")\"\n",
        "    "
      ],
      "execution_count": 0,
      "outputs": []
    },
    {
      "cell_type": "markdown",
      "metadata": {
        "id": "hELngK5DQbuc",
        "colab_type": "text"
      },
      "source": [
        "This class allows us to treat the fitness as the inverse of the route distance"
      ]
    },
    {
      "cell_type": "code",
      "metadata": {
        "id": "fkwucIU59YZ3",
        "colab_type": "code",
        "colab": {}
      },
      "source": [
        "class Fitness:\n",
        "  def __init__(self, route):\n",
        "    self.route = route \n",
        "    self.distance = 0\n",
        "    self.fitness = 0.0\n",
        "    \n",
        "  def routeDistance(self):\n",
        "    if self.distance == 0:\n",
        "      pathDistance = 0\n",
        "      for i in range(0, len(self.route)):\n",
        "        fromCity = self.route[i]\n",
        "        toCity = None\n",
        "        if i+1 < len(self.route):\n",
        "          toCity = self.route[i+1]\n",
        "        else:\n",
        "          toCity = self.route[0]\n",
        "        pathDistance += fromCity.distance(toCity)\n",
        "      self.distance  = pathDistance\n",
        "    return self.distance\n",
        "  \n",
        "  def routeFitness(self):\n",
        "    if self.fitness == 0:\n",
        "      self.fitness = 1 / float(self.routeDistance())\n",
        "    return self.fitness   \n",
        "      \n",
        "     "
      ],
      "execution_count": 0,
      "outputs": []
    },
    {
      "cell_type": "markdown",
      "metadata": {
        "id": "5f549gxwQsGb",
        "colab_type": "text"
      },
      "source": [
        "## **Now we start creating the population:**\n",
        "\n",
        "The following method produces individuals:"
      ]
    },
    {
      "cell_type": "code",
      "metadata": {
        "id": "BxaWkuGQ_LW_",
        "colab_type": "code",
        "colab": {}
      },
      "source": [
        "def createRoute(cityList):\n",
        "  route = random.sample(cityList, len(cityList))\n",
        "  return route"
      ],
      "execution_count": 0,
      "outputs": []
    },
    {
      "cell_type": "markdown",
      "metadata": {
        "id": "x8A4aPMuQ7QY",
        "colab_type": "text"
      },
      "source": [
        "This method creates a loop which in turn creates our whole population"
      ]
    },
    {
      "cell_type": "code",
      "metadata": {
        "id": "BVb8XOX6_jjA",
        "colab_type": "code",
        "colab": {}
      },
      "source": [
        "def initialPopulation(popSize, cityList):\n",
        "  population = []\n",
        "  \n",
        "  for i in range(0, popSize):\n",
        "    population.append(createRoute(cityList))\n",
        "  return population"
      ],
      "execution_count": 0,
      "outputs": []
    },
    {
      "cell_type": "markdown",
      "metadata": {
        "id": "9xVWUj-KREoW",
        "colab_type": "text"
      },
      "source": [
        "Determining the fitness of the model"
      ]
    },
    {
      "cell_type": "code",
      "metadata": {
        "id": "SYMRpi-h_8R7",
        "colab_type": "code",
        "colab": {}
      },
      "source": [
        "def rankRoutes(population):\n",
        "  fitnessResults = {}\n",
        "  \n",
        "  for i in range(0, len(population)):\n",
        "    fitnessResults[i] = Fitness(population[i]).routeFitness()\n",
        "  return sorted(fitnessResults.items(), key = operator.itemgetter(1), reverse=True)"
      ],
      "execution_count": 0,
      "outputs": []
    },
    {
      "cell_type": "markdown",
      "metadata": {
        "id": "bfFWPAMrRI-S",
        "colab_type": "text"
      },
      "source": [
        "Selecting the mating pool"
      ]
    },
    {
      "cell_type": "code",
      "metadata": {
        "id": "qPa2Lab5AydE",
        "colab_type": "code",
        "colab": {}
      },
      "source": [
        "def selection(popRanked, eliteSize):\n",
        "  selectionResults = []\n",
        "  \n",
        "  df = pd.DataFrame(np.array(popRanked), columns=[\"Index\", \"Fitness\"])\n",
        "  df['cum_sum'] = df.Fitness.cumsum()\n",
        "  df['cum_perc'] = 100 * df.cum_sum / df.Fitness.sum()\n",
        "  \n",
        "  for i in range(0, eliteSize):\n",
        "    selectionResults.append(popRanked[i][0])\n",
        "  for i in range(0, len(popRanked) - eliteSize):\n",
        "    pick = 100 * random.random()\n",
        "    \n",
        "    for i in range(0, len(popRanked)):\n",
        "      if pick <= df.iat[i, 3]:\n",
        "        selectionResults.append(popRanked[i][0])\n",
        "        break\n",
        "  return selectionResults"
      ],
      "execution_count": 0,
      "outputs": []
    },
    {
      "cell_type": "code",
      "metadata": {
        "id": "xIyIjSu5BgLM",
        "colab_type": "code",
        "colab": {}
      },
      "source": [
        "def matingPool(population, selectionResults):\n",
        "  matingpool = []\n",
        "  \n",
        "  for i in range(0, len(selectionResults)):\n",
        "    index = selectionResults[i]\n",
        "    matingpool.append(population[index])\n",
        "  return matingpool"
      ],
      "execution_count": 0,
      "outputs": []
    },
    {
      "cell_type": "markdown",
      "metadata": {
        "id": "l1jlgkvpRlmM",
        "colab_type": "text"
      },
      "source": [
        "## **Now we do the crossover**\n",
        "\n",
        "The following method does it for a single chromosome"
      ]
    },
    {
      "cell_type": "code",
      "metadata": {
        "id": "8CKt1QodDiwZ",
        "colab_type": "code",
        "colab": {}
      },
      "source": [
        "def breed(parent1, parent2):\n",
        "  child = []\n",
        "  childP1 = []\n",
        "  childP2 = []\n",
        "  \n",
        "  geneA = int(random.random() * len(parent1))\n",
        "  geneB = int(random.random() * len(parent1))\n",
        "  \n",
        "  startGene = min(geneA, geneB)\n",
        "  endGene = max(geneA, geneB)\n",
        "  \n",
        "  for i in range(startGene, endGene):\n",
        "    childP1.append(parent1[i])\n",
        "    \n",
        "  childP2 = [item for item in parent2 if item not in childP1]\n",
        "  \n",
        "  child = childP1 + childP2\n",
        "  \n",
        "  return child"
      ],
      "execution_count": 0,
      "outputs": []
    },
    {
      "cell_type": "markdown",
      "metadata": {
        "id": "8IsnEtIuRr7P",
        "colab_type": "text"
      },
      "source": [
        "Now we do the crossover for the whole population:"
      ]
    },
    {
      "cell_type": "code",
      "metadata": {
        "id": "YEjcIz5pE4GQ",
        "colab_type": "code",
        "colab": {}
      },
      "source": [
        "def breedPopulation(matingpool, eliteSize):\n",
        "  children = []\n",
        "  length = len(matingpool) - eliteSize\n",
        "  pool = random.sample(matingpool, len(matingpool))\n",
        "  \n",
        "  for i in range(0, eliteSize):\n",
        "    children.append(matingpool[i])\n",
        "    \n",
        "  for i in range(0, length):\n",
        "    child =  breed(pool[i], pool[len(matingpool)-i-1])\n",
        "    children.append(child)\n",
        "    \n",
        "  return children"
      ],
      "execution_count": 0,
      "outputs": []
    },
    {
      "cell_type": "markdown",
      "metadata": {
        "id": "P1t9qXmTRxDA",
        "colab_type": "text"
      },
      "source": [
        "## **Mutate**\n",
        "\n",
        "The following method does it for a single chromosome"
      ]
    },
    {
      "cell_type": "code",
      "metadata": {
        "id": "ud19exuSFrQd",
        "colab_type": "code",
        "colab": {}
      },
      "source": [
        "def mutate(individual, mutationRate):\n",
        "  for swapped in range(len(individual)):\n",
        "    if(random.random() < mutationRate):\n",
        "      swapWith = int(random.random() * len(individual))\n",
        "      \n",
        "      city1 = individual[swapped]\n",
        "      city2 = individual[swapped]\n",
        "      \n",
        "      individual[swapped] = city2\n",
        "      individual[swapped] = city1\n",
        "  return individual"
      ],
      "execution_count": 0,
      "outputs": []
    },
    {
      "cell_type": "markdown",
      "metadata": {
        "id": "x1czXPm2R9y1",
        "colab_type": "text"
      },
      "source": [
        "Now we mutate the whole population by calling the mutate function in a loop"
      ]
    },
    {
      "cell_type": "code",
      "metadata": {
        "id": "bpH5m4ygGvuQ",
        "colab_type": "code",
        "colab": {}
      },
      "source": [
        "def mutatePopulation(population, mutationRate):\n",
        "  mutatedPop = []\n",
        "  \n",
        "  for ind in range(0, len(population)):\n",
        "    mutatedInd = mutate(population[ind], mutationRate)\n",
        "    mutatedPop.append(mutatedInd)\n",
        "  return mutatedPop"
      ],
      "execution_count": 0,
      "outputs": []
    },
    {
      "cell_type": "markdown",
      "metadata": {
        "id": "P01xPVdoSJOK",
        "colab_type": "text"
      },
      "source": [
        "Now we write the code to repeat this process for the upcoming generations"
      ]
    },
    {
      "cell_type": "code",
      "metadata": {
        "id": "BmQXF-7gKT7b",
        "colab_type": "code",
        "colab": {}
      },
      "source": [
        "def nextGeneration(currentGen, eliteSize, mutationRate):\n",
        "  popRanked = rankRoutes(currentGen)\n",
        "  selectionResults = selection(popRanked, eliteSize)\n",
        "  matingpool = matingPool(currentGen, selectionResults)\n",
        "  children = breedPopulation(matingpool, eliteSize)\n",
        "  nextGeneration = mutatePopulation(children, mutationRate)\n",
        "  return nextGeneration"
      ],
      "execution_count": 0,
      "outputs": []
    },
    {
      "cell_type": "markdown",
      "metadata": {
        "id": "NIIDj8JLSQ9N",
        "colab_type": "text"
      },
      "source": [
        "Finally we make the function where we can bring all the above functions together and pass all the required parameters:"
      ]
    },
    {
      "cell_type": "code",
      "metadata": {
        "id": "BrGf27uKLRVx",
        "colab_type": "code",
        "colab": {}
      },
      "source": [
        "def geneticAlgorithm(population, popSize, eliteSize, mutationRate, generations):\n",
        "  pop = initialPopulation(popSize, population)\n",
        "  print(\"Initial distance: \" + str(1 / rankRoutes(pop)[0][1]))\n",
        "  \n",
        "  for i in range(0, generations):\n",
        "    pop = nextGeneration(pop, eliteSize, mutationRate)\n",
        "    \n",
        "  print(\"Final Distance: \" + str( 1 / rankRoutes(pop)[0][1]))\n",
        "  bestRouteIndex = rankRoutes(pop)[0][0]\n",
        "  bestRoute = pop[bestRouteIndex]\n",
        "  return bestRoute"
      ],
      "execution_count": 0,
      "outputs": []
    },
    {
      "cell_type": "markdown",
      "metadata": {
        "id": "Ko_hZXYBSg1e",
        "colab_type": "text"
      },
      "source": [
        "## **Running the genetic algorithm:**\n",
        "\n",
        "Creating the population:"
      ]
    },
    {
      "cell_type": "code",
      "metadata": {
        "id": "GT2PGz6BMbM3",
        "colab_type": "code",
        "colab": {}
      },
      "source": [
        "cityList = []\n",
        "for i in range(0, 25):\n",
        "  cityList.append(City(x=int(random.random() * 200), y=int(random.random() * 200)))"
      ],
      "execution_count": 0,
      "outputs": []
    },
    {
      "cell_type": "markdown",
      "metadata": {
        "id": "39tmaveHSq8R",
        "colab_type": "text"
      },
      "source": [
        "Running the main function after setting all the parameters"
      ]
    },
    {
      "cell_type": "code",
      "metadata": {
        "id": "OFXyH2Y7M2TK",
        "colab_type": "code",
        "colab": {
          "base_uri": "https://localhost:8080/",
          "height": 470
        },
        "outputId": "38819a50-a37f-40a2-9cfd-0557c4ce4ce6"
      },
      "source": [
        "geneticAlgorithm(population=cityList, popSize=100, eliteSize=20, mutationRate=0.01, generations=500)"
      ],
      "execution_count": 28,
      "outputs": [
        {
          "output_type": "stream",
          "text": [
            "Initial distance: 2163.009898564013\n",
            "Final Distance946.2604545593674\n"
          ],
          "name": "stdout"
        },
        {
          "output_type": "execute_result",
          "data": {
            "text/plain": [
              "[(177,44),\n",
              " (183,97),\n",
              " (175,110),\n",
              " (181,136),\n",
              " (127,186),\n",
              " (199,160),\n",
              " (191,132),\n",
              " (145,112),\n",
              " (126,100),\n",
              " (89,89),\n",
              " (63,142),\n",
              " (40,168),\n",
              " (58,174),\n",
              " (46,155),\n",
              " (81,143),\n",
              " (53,109),\n",
              " (21,92),\n",
              " (11,106),\n",
              " (2,106),\n",
              " (18,80),\n",
              " (42,19),\n",
              " (91,59),\n",
              " (125,35),\n",
              " (154,28),\n",
              " (171,15)]"
            ]
          },
          "metadata": {
            "tags": []
          },
          "execution_count": 28
        }
      ]
    },
    {
      "cell_type": "markdown",
      "metadata": {
        "id": "UmxAOR4HSyDN",
        "colab_type": "text"
      },
      "source": [
        "## **Plotting the results:**\n",
        "\n",
        "This would help us get a better understanding of how our result converges to a single value"
      ]
    },
    {
      "cell_type": "code",
      "metadata": {
        "id": "XFkT3MFfN2Sw",
        "colab_type": "code",
        "colab": {}
      },
      "source": [
        "def geneticAlgorithmPlot(population, popSize, eliteSize, mutationRate, generations):\n",
        "  pop = initialPopulation(popSize, population)\n",
        "  progress = []\n",
        "  \n",
        "  progress.append(1 / rankRoutes(pop)[0][1])\n",
        "  \n",
        "  for i in range(0, generations):\n",
        "    pop = nextGeneration(pop, eliteSize, mutationRate)\n",
        "    progress.append(1 / rankRoutes(pop)[0][1])\n",
        "    \n",
        "  plt.plot(progress)\n",
        "  plt.ylabel('Distance')\n",
        "  plt.xlabel('Generation')\n",
        "  plt.show()"
      ],
      "execution_count": 0,
      "outputs": []
    },
    {
      "cell_type": "code",
      "metadata": {
        "id": "Lf-DwFm_PiK6",
        "colab_type": "code",
        "colab": {
          "base_uri": "https://localhost:8080/",
          "height": 283
        },
        "outputId": "ee5ff541-07c6-4646-c081-24df0d7160e5"
      },
      "source": [
        "geneticAlgorithmPlot(population=cityList, popSize=100, eliteSize=20, mutationRate=0.01, generations=500)"
      ],
      "execution_count": 31,
      "outputs": [
        {
          "output_type": "display_data",
          "data": {
            "image/png": "[encoded data removed]",
            "text/plain": [
              "<Figure size 432x288 with 1 Axes>"
            ]
          },
          "metadata": {
            "tags": []
          }
        }
      ]
    }
  ]
}