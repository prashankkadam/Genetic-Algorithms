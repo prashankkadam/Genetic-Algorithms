{
  "nbformat": 4,
  "nbformat_minor": 0,
  "metadata": {
    "colab": {
      "name": "GA.ipynb",
      "version": "0.3.2",
      "provenance": [],
      "include_colab_link": true
    },
    "kernelspec": {
      "name": "python3",
      "display_name": "Python 3"
    }
  },
  "cells": [
    {
      "cell_type": "markdown",
      "metadata": {
        "id": "view-in-github",
        "colab_type": "text"
      },
      "source": [
        "<a href=\"https://colab.research.google.com/github/prashankkadam/Genetic-Algorithms/blob/Equation_Solutions/GA.ipynb\" target=\"_parent\"><img src=\"https://colab.research.google.com/assets/colab-badge.svg\" alt=\"Open In Colab\"/></a>"
      ]
    },
    {
      "cell_type": "code",
      "metadata": {
        "id": "st1ajZUJW2_L",
        "colab_type": "code",
        "colab": {}
      },
      "source": [
        "import numpy"
      ],
      "execution_count": 0,
      "outputs": []
    },
    {
      "cell_type": "code",
      "metadata": {
        "id": "lMpsOBZiW_YV",
        "colab_type": "code",
        "colab": {}
      },
      "source": [
        "def cal_pop_fitness(equation_inputs, pop):\n",
        "  \n",
        "  # Calculating the fitness value of each solution in the population:\n",
        "  fitness = numpy.sum(pop * equation_inputs, axix=1)\n",
        "  \n",
        "  return fitness"
      ],
      "execution_count": 0,
      "outputs": []
    },
    {
      "cell_type": "code",
      "metadata": {
        "id": "X3C_29g-XYzw",
        "colab_type": "code",
        "colab": {}
      },
      "source": [
        "def select_mating_pool(pop, fitness, num_parents):\n",
        "  \n",
        "  # Selecting the best individuals in the current generation of parents:\n",
        "  parents = numpy.empty((num_parents, pop.shape[1]))\n",
        "  \n",
        "  for parent_num in range(num_parents):\n",
        "    max_fitness_idx = numpy.where(fitness == numpy.max(fitness))\n",
        "    max_fitness_idx = max_fitness_idx[0][0]\n",
        "    parents[parent_num, :] = pop[max_fitness_idx, :]\n",
        "    fitness[max_fitness_idx] = -99999999999\n",
        "  \n",
        "  return parents"
      ],
      "execution_count": 0,
      "outputs": []
    },
    {
      "cell_type": "code",
      "metadata": {
        "id": "cVpgoDiYYd3R",
        "colab_type": "code",
        "colab": {}
      },
      "source": [
        "def crossover(parents, offspring_size):\n",
        "  off_spring = numpy.empty(offspring_size)\n",
        "  \n",
        "  # The point at which the crossover takes place between two parents. Usually it is at the center.\n",
        "  crossover_point = numpy.uint8(offspring_size[1]/2)\n",
        "  \n",
        "  for k in range(offspring_size[0]):\n",
        "    \n",
        "    # Index of the first parent to mate\n",
        "    parent1_idx = k%parents.shape[0]\n",
        "    \n",
        "    # Index of the second parent to mate\n",
        "    parent2_idx = (k+1)%parents.shape[0]\n",
        "    \n",
        "    # The new offspring will have half of its genes taken from the first parent\n",
        "    offspring[k, 0:crossover_point] = parents[parent1_idx, 0:crossover_point]\n",
        "    \n",
        "    # The new offspring will have the second half of its genes taken from the second parent:\n",
        "    offspring[k, crossover_point:] = parents[parent2_idx, crossover_point:]\n",
        "  \n",
        "  return offspring"
      ],
      "execution_count": 0,
      "outputs": []
    },
    {
      "cell_type": "code",
      "metadata": {
        "id": "qnGXu4XXaai3",
        "colab_type": "code",
        "colab": {}
      },
      "source": [
        "def mutation(offspring_crossover):\n",
        "  \n",
        "  # Mutation will change a single gene of each offspring randomly:\n",
        "  for idx in range(offspring_crossover.shape[0]):\n",
        "    \n",
        "    # The random value to be added to the gene\n",
        "    random_value = numpy.random.uniform(-1.0, 1.0, 1)\n",
        "    \n",
        "    offspring_crossover[idx, 4] = offspring_crossover[idx, 4] + random_value\n",
        "    \n",
        "  return offspring_crossover"
      ],
      "execution_count": 0,
      "outputs": []
    }
  ]
}